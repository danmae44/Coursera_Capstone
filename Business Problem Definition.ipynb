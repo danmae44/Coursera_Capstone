{
 "cells": [
  {
   "cell_type": "markdown",
   "metadata": {},
   "source": [
    "## Capstone Project - The Battle of Neighborhoods"
   ]
  },
  {
   "cell_type": "markdown",
   "metadata": {},
   "source": [
    "### Business Problem\n",
    "Opening a successful restaurant is all about location; physical brick-and-mortar venues matter even in today’s world of virtual reality. Location can make or break a restaurant.\n",
    "The object of this project is to identify the ideal location to start a new restaurant in Toronto, Canada. \n",
    "\n",
    "### Data Sourcing\n",
    "*Data required\n",
    "*List of neighborhoods in Toronto, Canada\n",
    "*Latitude and longitude coordinates of the neighborhoods\n",
    "*Venue data\n"
   ]
  },
  {
   "cell_type": "markdown",
   "metadata": {},
   "source": [
    "*Sources of data\n",
    "*Wikipedia page for neighborhoods  (https://en.wikipedia.org/wiki/List_of_postal_codes_of_Canada:_M)\n",
    "*Geocoder package for latitude and longitude coordinates\n",
    "*Foursquare API for venue data\n",
    "\n"
   ]
  },
  {
   "cell_type": "code",
   "execution_count": null,
   "metadata": {},
   "outputs": [],
   "source": []
  }
 ],
 "metadata": {
  "kernelspec": {
   "display_name": "Python",
   "language": "python",
   "name": "conda-env-python-py"
  },
  "language_info": {
   "codemirror_mode": {
    "name": "ipython",
    "version": 3
   },
   "file_extension": ".py",
   "mimetype": "text/x-python",
   "name": "python",
   "nbconvert_exporter": "python",
   "pygments_lexer": "ipython3",
   "version": "3.6.10"
  }
 },
 "nbformat": 4,
 "nbformat_minor": 4
}
