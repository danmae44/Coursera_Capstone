{
 "cells": [
  {
   "cell_type": "markdown",
   "metadata": {},
   "source": [
    "## Capstone Project - The Battle of Neighborhoods (Week 1)"
   ]
  },
  {
   "cell_type": "markdown",
   "metadata": {},
   "source": [
    "### Introduction\n",
    "Toronto is a city with scores of neighbourhoods, some of which have identities that have been imposed upon them by realtors, whereas others are of much longer standing and have a more distinctive character. The main premise of our research will center on investigating and determining the ideal locale in Toronto, Canada, for the establishment of a new dining experience, a restaurant targeting people whose taste palette is unconventional and outside the box. In this study, I endeavor to identify the right location by finding the right cluster of people and amenities, where income, age, education, household size combined with the right competitive mixture to create an enabling environment to support business and those who depend on it."
   ]
  },
  {
   "cell_type": "markdown",
   "metadata": {},
   "source": [
    "### Business Problem\n",
    "Opening a successful restaurant is all about location; physical brick-and-mortar venues matter even in today’s world of virtual reality. Location can make or break a restaurant. Toronto is Canada’s business and financial capital. The city is the second largest financial services centre in North America and has one of the highest concentrations of financial services company headquarters in the Americas. With its reputation for safety, soundness and stability, Toronto is fast becoming a global location destination for financial services. The object of this project is to identify the ideal location to start a new restaurant in Toronto, Canada. \n"
   ]
  },
  {
   "cell_type": "markdown",
   "metadata": {},
   "source": [
    "### Target Audience\n",
    "Our target auidence are prospective investors and entrepreneurs who consider to establish a restaurant in Toronto. One such critical aspect of an exercise of this nature, is selecting a location, that is, often what type of community, city, state or even country to locate their business in. This capstone project hopes to make this process a little less burdensome and scientific, by providing a robust and grounded analytical framework through which one can better assess the costs and benefits of a location relative to each other."
   ]
  },
  {
   "cell_type": "markdown",
   "metadata": {},
   "source": [
    "### Data Sourcing\n",
    "**1. List of neighborhoods in Toronto, Canada<br>**\n",
    "Wikipedia page for neighborhoods  (https://en.wikipedia.org/wiki/List_of_postal_codes_of_Canada:_M)<br>\n",
    "<br>\n",
    "**2. Latitude and longitude coordinates of the neighborhoods<br>**\n",
    "Geocoder package for latitude and longitude coordinates<br>\n",
    "<br>\n",
    "**3. Venue data<br>**\n",
    "Foursquare API for venue data"
   ]
  },
  {
   "cell_type": "code",
   "execution_count": null,
   "metadata": {},
   "outputs": [],
   "source": []
  }
 ],
 "metadata": {
  "kernelspec": {
   "display_name": "Python",
   "language": "python",
   "name": "conda-env-python-py"
  },
  "language_info": {
   "codemirror_mode": {
    "name": "ipython",
    "version": 3
   },
   "file_extension": ".py",
   "mimetype": "text/x-python",
   "name": "python",
   "nbconvert_exporter": "python",
   "pygments_lexer": "ipython3",
   "version": "3.6.10"
  }
 },
 "nbformat": 4,
 "nbformat_minor": 4
}
